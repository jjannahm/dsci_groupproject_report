{
 "cells": [
  {
   "cell_type": "markdown",
   "id": "fef89904-a865-41a0-9070-eff08fabb879",
   "metadata": {},
   "source": [
    "## GROUP 135 PROJECT PROPOSAL"
   ]
  },
  {
   "cell_type": "markdown",
   "id": "8c21a187-3509-4eec-b4b3-466eda3a95a9",
   "metadata": {},
   "source": [
    "Group Members: Jannah Mohamed, Kate Saychaleun, Julia Toito, Elaine Chen\n"
   ]
  },
  {
   "cell_type": "code",
   "execution_count": 1,
   "id": "a108dfe9-564d-441e-a16b-e38b5889d90f",
   "metadata": {},
   "outputs": [
    {
     "name": "stderr",
     "output_type": "stream",
     "text": [
      "── \u001b[1mAttaching packages\u001b[22m ─────────────────────────────────────── tidyverse 1.3.1 ──\n",
      "\n",
      "\u001b[32m✔\u001b[39m \u001b[34mggplot2\u001b[39m 3.3.6     \u001b[32m✔\u001b[39m \u001b[34mpurrr  \u001b[39m 0.3.4\n",
      "\u001b[32m✔\u001b[39m \u001b[34mtibble \u001b[39m 3.1.7     \u001b[32m✔\u001b[39m \u001b[34mdplyr  \u001b[39m 1.0.9\n",
      "\u001b[32m✔\u001b[39m \u001b[34mtidyr  \u001b[39m 1.2.0     \u001b[32m✔\u001b[39m \u001b[34mstringr\u001b[39m 1.4.0\n",
      "\u001b[32m✔\u001b[39m \u001b[34mreadr  \u001b[39m 2.1.2     \u001b[32m✔\u001b[39m \u001b[34mforcats\u001b[39m 0.5.1\n",
      "\n",
      "── \u001b[1mConflicts\u001b[22m ────────────────────────────────────────── tidyverse_conflicts() ──\n",
      "\u001b[31m✖\u001b[39m \u001b[34mdplyr\u001b[39m::\u001b[32mfilter()\u001b[39m masks \u001b[34mstats\u001b[39m::filter()\n",
      "\u001b[31m✖\u001b[39m \u001b[34mdplyr\u001b[39m::\u001b[32mlag()\u001b[39m    masks \u001b[34mstats\u001b[39m::lag()\n",
      "\n",
      "── \u001b[1mAttaching packages\u001b[22m ────────────────────────────────────── tidymodels 1.0.0 ──\n",
      "\n",
      "\u001b[32m✔\u001b[39m \u001b[34mbroom       \u001b[39m 1.0.0     \u001b[32m✔\u001b[39m \u001b[34mrsample     \u001b[39m 1.0.0\n",
      "\u001b[32m✔\u001b[39m \u001b[34mdials       \u001b[39m 1.0.0     \u001b[32m✔\u001b[39m \u001b[34mtune        \u001b[39m 1.0.0\n",
      "\u001b[32m✔\u001b[39m \u001b[34minfer       \u001b[39m 1.0.2     \u001b[32m✔\u001b[39m \u001b[34mworkflows   \u001b[39m 1.0.0\n",
      "\u001b[32m✔\u001b[39m \u001b[34mmodeldata   \u001b[39m 1.0.0     \u001b[32m✔\u001b[39m \u001b[34mworkflowsets\u001b[39m 1.0.0\n",
      "\u001b[32m✔\u001b[39m \u001b[34mparsnip     \u001b[39m 1.0.0     \u001b[32m✔\u001b[39m \u001b[34myardstick   \u001b[39m 1.0.0\n",
      "\u001b[32m✔\u001b[39m \u001b[34mrecipes     \u001b[39m 1.0.1     \n",
      "\n",
      "── \u001b[1mConflicts\u001b[22m ───────────────────────────────────────── tidymodels_conflicts() ──\n",
      "\u001b[31m✖\u001b[39m \u001b[34mscales\u001b[39m::\u001b[32mdiscard()\u001b[39m masks \u001b[34mpurrr\u001b[39m::discard()\n",
      "\u001b[31m✖\u001b[39m \u001b[34mdplyr\u001b[39m::\u001b[32mfilter()\u001b[39m   masks \u001b[34mstats\u001b[39m::filter()\n",
      "\u001b[31m✖\u001b[39m \u001b[34mrecipes\u001b[39m::\u001b[32mfixed()\u001b[39m  masks \u001b[34mstringr\u001b[39m::fixed()\n",
      "\u001b[31m✖\u001b[39m \u001b[34mdplyr\u001b[39m::\u001b[32mlag()\u001b[39m      masks \u001b[34mstats\u001b[39m::lag()\n",
      "\u001b[31m✖\u001b[39m \u001b[34myardstick\u001b[39m::\u001b[32mspec()\u001b[39m masks \u001b[34mreadr\u001b[39m::spec()\n",
      "\u001b[31m✖\u001b[39m \u001b[34mrecipes\u001b[39m::\u001b[32mstep()\u001b[39m   masks \u001b[34mstats\u001b[39m::step()\n",
      "\u001b[34m•\u001b[39m Search for functions across packages at \u001b[32mhttps://www.tidymodels.org/find/\u001b[39m\n",
      "\n"
     ]
    }
   ],
   "source": [
    "library(tidyverse)\n",
    "library(readxl)\n",
    "library(ggplot2)\n",
    "library(tidymodels)"
   ]
  },
  {
   "cell_type": "code",
   "execution_count": null,
   "id": "27b31a87-5693-4aab-9301-c0c31aef0436",
   "metadata": {},
   "outputs": [],
   "source": [
    "download.file(url = \"https://archive.ics.uci.edu/ml/machine-learning-databases/00257/Data_User_Modeling_Dataset_Hamdi%20Tolga%20KAHRAMAN.xls\", destfile = \"Data_User_Modeling_Dataset_Hamdi Tolga KAHRAMAN.xls\")\n",
    "user_training_data <- read_excel(\"Data_User_Modeling_Dataset_Hamdi Tolga KAHRAMAN.xls\", \"Training_Data\")%>%\n",
    "    select(STG:UNS)\n",
    "user_test_data <- read_excel(\"Data_User_Modeling_Dataset_Hamdi Tolga KAHRAMAN.xls\", \"Test_Data\")%>%\n",
    "    select(STG:UNS)                    "
   ]
  },
  {
   "cell_type": "code",
   "execution_count": null,
   "id": "8f185e74-a15e-4731-8c14-2fce88c0ab1e",
   "metadata": {},
   "outputs": [],
   "source": [
    "# Run this cell before continuing.\n",
    "# Wrangle and clean the data from it's original format to the format necessary for the planned analysis\n",
    "user_training_data %>%\n",
    "    select(STG:UNS) %>%\n",
    "    head(rows)\n",
    "    \n",
    "user_test_data %>%\n",
    "    select(STG:UNS) %>%\n",
    "    head(rows)"
   ]
  },
  {
   "cell_type": "code",
   "execution_count": null,
   "id": "13c5b72c-3d69-4cba-a454-e4e5f6cef315",
   "metadata": {},
   "outputs": [],
   "source": [
    "# tallying up the amount of each category of UNS \n",
    "tally <- user_training_data %>%\n",
    "    group_by(UNS) %>%\n",
    "    summarize(amount = n()) %>%\n",
    "    arrange(c(4, 2, 3, 1))\n",
    "\n",
    "# mean of each one of the predictor variable\n",
    "means <- user_training_data %>%\n",
    "    select(-UNS) %>%\n",
    "    map_df(mean)"
   ]
  },
  {
   "cell_type": "code",
   "execution_count": null,
   "id": "43404e8b-2b49-41d5-a5c7-b2c244fd94d4",
   "metadata": {},
   "outputs": [],
   "source": [
    "pvl1 <- user_training_data %>%\n",
    "    ggplot(aes(x = STG, y = UNS, fill = UNS)) +\n",
    "    geom_boxplot() +\n",
    "    ylab(\"UNS (The Knowledge Level Of User)\") +\n",
    "    xlab(\"STG (The Degree of Study Time for Goal Object Materials)\") +\n",
    "    scale_y_discrete(limits = c(\"very_low\", \"Low\", \"Middle\", \"High\")) +\n",
    "    ggtitle(\"The Knowledge Level Of a User \\nDepending on their Degree of Study Time for Goal Object Materials\") +\n",
    "    theme(text = element_text(size = 14))\n",
    "\n",
    "pvl2 <- user_training_data %>%\n",
    "    ggplot(aes(x = SCG, y = UNS, fill = UNS)) +\n",
    "    geom_boxplot() +\n",
    "    ylab(\"UNS (The Knowledge Level Of User)\") +\n",
    "    xlab(\"SCG (The Degree of Repetition Number of User for Goal Object Materials)\") +\n",
    "    scale_y_discrete(limits = c(\"very_low\", \"Low\", \"Middle\", \"High\")) +\n",
    "    ggtitle(\"The Knowledge Level Of a User \\nDepending on their Degree of Repetition Number of User for Goal Object Materials\") +\n",
    "    theme(text = element_text(size = 14))\n",
    "\n",
    "pvl3 <- user_training_data %>%\n",
    "    ggplot(aes(x = STR, y = UNS, fill = UNS)) +\n",
    "    geom_boxplot() +\n",
    "    ylab(\"UNS (The Knowledge Level Of User)\") +\n",
    "    xlab(\"STR (The Degree of Study Time of User for Related Objects with Goal Object)\") +\n",
    "    scale_y_discrete(limits = c(\"very_low\", \"Low\", \"Middle\", \"High\")) +\n",
    "    ggtitle(\"The Knowledge Level Of a User \\nDepending on their Degree of Study Time of User for Related Objects with Goal Object\")+\n",
    "    theme(text = element_text(size = 14))\n",
    "\n",
    "pvl4 <- user_training_data %>%\n",
    "    ggplot(aes(x = LPR, y = UNS, fill = UNS)) +\n",
    "    geom_boxplot() +\n",
    "    ylab(\"UNS (The Knowledge Level Of User)\") +\n",
    "    xlab(\"LPR (The Exam Performance of User for Related Objects with Goal Object)\") +\n",
    "    scale_y_discrete(limits = c(\"very_low\", \"Low\", \"Middle\", \"High\")) +\n",
    "    ggtitle(\"The Knowledge Level Of a User \\nDepending on their Exam Performance of User for Related Objects with Goal Object\") +\n",
    "    theme(text = element_text(size = 14))\n",
    "\n",
    "pvl5 <- user_training_data %>%\n",
    "    ggplot(aes(x = PEG, y = UNS, fill = UNS)) +\n",
    "    geom_boxplot() +\n",
    "    ylab(\"UNS (The Knowledge Level Of User)\") +\n",
    "    xlab(\"PEG (The Exam Performance of User for Goal Objects)\") +\n",
    "    scale_y_discrete(limits = c(\"very_low\", \"Low\", \"Middle\", \"High\")) +\n",
    "    ggtitle(\"The Knowledge Level Of a User \\nDepending on their Exam Performance of User for Goal Objects\") +\n",
    "    theme(text = element_text(size = 14))"
   ]
  },
  {
   "cell_type": "code",
   "execution_count": null,
   "id": "dc4bd9e1-f604-42ec-8204-2bf8947d31b7",
   "metadata": {},
   "outputs": [],
   "source": [
    "# performing forward selection\n",
    "names <- colnames(user_training_data |> select(-UNS))\n",
    "accuracies <- tibble(size = integer(), \n",
    "                     model_string = character(), \n",
    "                     accuracy = numeric())\n",
    "\n",
    "knn_spec <- nearest_neighbor(weight_func = \"rectangular\", \n",
    "                             neighbors = tune()) |>\n",
    "     set_engine(\"kknn\") |>\n",
    "     set_mode(\"classification\")\n",
    "\n",
    "cancer_vfold <- vfold_cv(user_training_data, v = 5, strata = UNS)\n",
    "\n",
    "n_total <- length(names)\n",
    "\n",
    "selected <- c()\n",
    "\n",
    "for (i in 1:n_total) {\n",
    "    accs <- list()\n",
    "    models <- list()\n",
    "    for (j in 1:length(names)) {\n",
    "        preds_new <- c(selected, names[[j]])\n",
    "        model_string <- paste(\"UNS\", \"~\", paste(preds_new, collapse=\"+\"))\n",
    "\n",
    "        # create a recipe from the model string\n",
    "        cancer_recipe <- recipe(as.formula(model_string), \n",
    "                                data = user_training_data) |>\n",
    "                          step_scale(all_predictors()) |>\n",
    "                          step_center(all_predictors())\n",
    "\n",
    "        # tune the KNN classifier with these predictors, \n",
    "        # and collect the accuracy for the best K\n",
    "        acc <- workflow() |>\n",
    "          add_recipe(cancer_recipe) |>\n",
    "          add_model(knn_spec) |>\n",
    "          tune_grid(resamples = cancer_vfold, grid = 10) |>\n",
    "          collect_metrics() |>\n",
    "          filter(.metric == \"accuracy\") |>\n",
    "          summarize(mx = max(mean))\n",
    "        acc <- acc$mx |> unlist()\n",
    "\n",
    "        # add this result to the dataframe\n",
    "        accs[[j]] <- acc\n",
    "        models[[j]] <- model_string\n",
    "    }\n",
    "    jstar <- which.max(unlist(accs))\n",
    "    accuracies <- accuracies |> \n",
    "      add_row(size = i, \n",
    "              model_string = models[[jstar]], \n",
    "              accuracy = accs[[jstar]])\n",
    "    selected <- c(selected, names[[jstar]])\n",
    "    names <- names[-jstar]\n",
    "}"
   ]
  },
  {
   "cell_type": "code",
   "execution_count": null,
   "id": "0478364e-9e95-4b0d-8a79-55a987c91779",
   "metadata": {},
   "outputs": [],
   "source": [
    "point <- user_training_data %>%\n",
    "    ggplot(aes(x = PEG, y = LPR, color = as_factor(UNS))) +\n",
    "    geom_point() +\n",
    "    labs(x = \"PEG (The Exam Performance of User for Goal Objects)\", y = \"LPR (The Exam Performance of User for Related Objects with Goal Object)\", color = \"UNS (The Knowledge Level Of User)\")+\n",
    "    ggtitle(\"The Exam Performance of User for Goal Objects \\n Depending on The Exam Performance of User for Related Objects with Goal Object\") +\n",
    "    theme(text = element_text(size = 14))"
   ]
  },
  {
   "cell_type": "markdown",
   "id": "8bdcf91e-be95-4e54-9c25-36c36ce75f65",
   "metadata": {},
   "source": [
    "## Introduction\n",
    "#### **Which set of predictors accurately demonstrates one’s UNS: The Knowledge Level of a User?**\n",
    "For our group project we will explore the development of intuitive knowledge classifiers and the modeling of domain dependent data. The dataset aims to classify the level of a user's knowledge on Electrical DC Machines, using an intuitive algorithmic classifier. \n",
    "First, the proposed knowledge classifier investigates the best weighted values for the students’ knowledge classes. Then, the distance between the students is calculated using their data and weight values. These differences in the classification procedure are then employed to define their knowledge class (very_low, Low, Middle, High). The model classifies them through weighting students’ domain-dependent data, a combination of user modeling algorithms and population-based approach. The approach enables us to optimize the accuracy score and visualize the relationship between the categories."
   ]
  },
  {
   "cell_type": "markdown",
   "id": "4a155463-b549-448f-96fb-ef1d7af02076",
   "metadata": {},
   "source": [
    "## Preliminary Exploratory Analysis\n",
    "\n",
    "After importing and reading the dataset from the csv file, we will be using the “UNS (The knowledge level of user)” column as the target value."
   ]
  },
  {
   "cell_type": "markdown",
   "id": "5b043851-6cf0-4bd8-bf83-2ab21f0bb006",
   "metadata": {},
   "source": [
    "## Graphs and Tables"
   ]
  },
  {
   "cell_type": "markdown",
   "id": "b2790a74-f5a7-432c-a5ce-0cd28555a454",
   "metadata": {},
   "source": [
    "This table shows how many observations each category (very_low, Low, Middle, High) of UNS user_training_data has. This gives us an idea of the weight distribution of each variable. If the model is more skewed towards one variable, we can shift the weight to accomodate for other variables accordingly."
   ]
  },
  {
   "cell_type": "code",
   "execution_count": null,
   "id": "15e9a3fb-e371-4da5-ba39-554df03c1a6a",
   "metadata": {},
   "outputs": [],
   "source": [
    "tally"
   ]
  },
  {
   "cell_type": "markdown",
   "id": "628a9eba-940d-4b35-8790-745d57202224",
   "metadata": {},
   "source": [
    "This table shows the mean of each one of the potential predictor variables (STG, SCG, STR, LPR, PEG)."
   ]
  },
  {
   "cell_type": "code",
   "execution_count": null,
   "id": "a420b20f-ad7b-4392-82d6-e88ef03f3986",
   "metadata": {},
   "outputs": [],
   "source": [
    "means"
   ]
  },
  {
   "cell_type": "markdown",
   "id": "e2cb1b97-12d5-46ec-8dc8-ddc50f9b7c01",
   "metadata": {},
   "source": [
    "**Pvl1**: There is mostly a positive correlation between the mean of study time and UNS, meaning students typically score higher the more time they spend on studying Goal Object Materials. However, there are some outliers in the model. For example, there is one student whose degree of study time is high but is still “very low” in UNS."
   ]
  },
  {
   "cell_type": "code",
   "execution_count": null,
   "id": "681f7e77-0e56-4314-b504-3e2c62131984",
   "metadata": {},
   "outputs": [],
   "source": [
    "options(repr.plot.width = 7, repr.plot.height = 7)\n",
    "pvl1"
   ]
  },
  {
   "cell_type": "markdown",
   "id": "b1ce785b-5937-4973-a077-9bbdc8a3cd2e",
   "metadata": {},
   "source": [
    "**Pvl2**: The relationship between the mean repetition and UNS is a positive trend, indicating that higher scores are more dependent on the student’s repetition in studying the Goal Object Materials. "
   ]
  },
  {
   "cell_type": "code",
   "execution_count": null,
   "id": "b3213751-d051-4d6f-8960-256380c31711",
   "metadata": {},
   "outputs": [],
   "source": [
    "pvl2"
   ]
  },
  {
   "cell_type": "markdown",
   "id": "7bfae9c0-b5a4-41c1-a19d-a3666868c0dd",
   "metadata": {},
   "source": [
    "**Pvl3**: There is no real relationship between UNS and STR."
   ]
  },
  {
   "cell_type": "code",
   "execution_count": null,
   "id": "384fc2cc-0248-451d-833c-2538e9f7e6ee",
   "metadata": {},
   "outputs": [],
   "source": [
    "pvl3"
   ]
  },
  {
   "cell_type": "markdown",
   "id": "0420aa44-f067-4902-93a2-62f44751762f",
   "metadata": {},
   "source": [
    "**Pvl4**: There is no real relationship between UNS and LPR."
   ]
  },
  {
   "cell_type": "code",
   "execution_count": null,
   "id": "69413e6f-8a36-4ffc-8c72-bc33819768e9",
   "metadata": {},
   "outputs": [],
   "source": [
    "pvl4"
   ]
  },
  {
   "cell_type": "markdown",
   "id": "19f0e5f2-bcab-45db-bb7b-0f5123735922",
   "metadata": {},
   "source": [
    "**Pvl5**: There is a clear positive correlation between the mean of exam performance for Goal Objects and UNS. In other words, the dataset shows that the higher the student can score in their exam, the higher their level of UNS is. There are some outliers where the students scored less than the mean score, but have a higher level of UNS than the majority in their group."
   ]
  },
  {
   "cell_type": "code",
   "execution_count": null,
   "id": "f2c508ed-774e-471f-9353-971d410b2497",
   "metadata": {},
   "outputs": [],
   "source": [
    "pvl5"
   ]
  },
  {
   "cell_type": "markdown",
   "id": "44c175ea-3d94-4081-b02a-ff2c3cab9b2d",
   "metadata": {},
   "source": [
    "**accuracies:** Using forward selection, test each combination of variables to find which ones are most suitable to use as predictors. As we can see in this table, the combination of PEG + LPR gives the highest estimated accuracy for predicting UNS; therefore it would be ideal to use the PEG and LPR as predictors."
   ]
  },
  {
   "cell_type": "code",
   "execution_count": null,
   "id": "87c4b9cc-3041-4fbd-8db4-13eae1a51d85",
   "metadata": {},
   "outputs": [],
   "source": [
    "accuracies"
   ]
  },
  {
   "cell_type": "markdown",
   "id": "111346dd-94cb-46d1-b51f-61cc2be71683",
   "metadata": {},
   "source": [
    "**Point:** The categories of UNS are clearly separated into different sections of the graph. We can see that as PEG gets larger, the UNS of the observations increase from very_low to Low to Middle to High."
   ]
  },
  {
   "cell_type": "code",
   "execution_count": null,
   "id": "bebbbeda-ecbc-46d5-9d8c-65a44d2a1d3d",
   "metadata": {},
   "outputs": [],
   "source": [
    "options(repr.plot.width = 12, repr.plot.height = 7)\n",
    "point"
   ]
  },
  {
   "cell_type": "markdown",
   "id": "22df3966-5366-4098-b209-61ac65d37f3c",
   "metadata": {},
   "source": [
    "## Method\n",
    "Given the variable we are trying to predict (UNS), is categorical and not continuous, the correct model to employ would be a classification model. We are going to use the K-nearest neighbors classification model to try and predict UNS. The predictor variables we are going to use are PEG and LPR. This is because we used forward selection to try and see which combination of variables is most likely to be accurate for predicting UNS, and PEG + LPR had the highest estimated accuracy, at 0.96. We also graphs PEG against LPR and coloured the observations by UNS, to try and see if the observations are indeed separated into clear categories, which they are. "
   ]
  },
  {
   "cell_type": "markdown",
   "id": "7bf008ae-bc08-4ec0-9b1d-3b5965556d43",
   "metadata": {},
   "source": [
    "## Conclusion\n",
    "We expect to find that higher levels of PEG and LPR will lead to a better understanding of DC machines, ie: a higher UNS. Some impact this finding can have is letting professors know how to better gauge their students’ understanding of a certain topic. Some further questions we can ask are: What do we need to improve to better teach students about Electrical DC Machines? What are the best methods students can use to improve their understanding? \n",
    "<br>\n",
    "<br>"
   ]
  },
  {
   "cell_type": "markdown",
   "id": "217ed40d-0749-4a6f-bd8d-5292e1a45908",
   "metadata": {},
   "source": [
    "## References\n",
    "H. T. Kahraman, Sagiroglu, S., Colak, I., Developing intuitive knowledge classifier and \n",
    "modeling of users' domain dependent data in web, Knowledge Based Systems, vol. 37, \n",
    "pp. 283-295, 2013.\n",
    "\n",
    "Kahraman, H. T. (2009). Designing and Application of Web-Based Adaptive Intelligent \n",
    "Education System. Gazi University Ph. D. Thesis, Turkey, 1-156.\n"
   ]
  },
  {
   "cell_type": "code",
   "execution_count": null,
   "id": "93411095-3608-4008-8de5-6d9b9e8bf119",
   "metadata": {},
   "outputs": [],
   "source": []
  }
 ],
 "metadata": {
  "kernelspec": {
   "display_name": "R",
   "language": "R",
   "name": "ir"
  },
  "language_info": {
   "codemirror_mode": "r",
   "file_extension": ".r",
   "mimetype": "text/x-r-source",
   "name": "R",
   "pygments_lexer": "r",
   "version": "4.1.3"
  }
 },
 "nbformat": 4,
 "nbformat_minor": 5
}
